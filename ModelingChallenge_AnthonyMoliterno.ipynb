{
 "cells": [
  {
   "cell_type": "code",
   "execution_count": 165,
   "metadata": {},
   "outputs": [],
   "source": [
    "import numpy as np\n",
    "import pandas as pd\n",
    "import random"
   ]
  },
  {
   "cell_type": "code",
   "execution_count": 166,
   "metadata": {},
   "outputs": [
    {
     "data": {
      "text/plain": [
       "(80000, 26)"
      ]
     },
     "execution_count": 166,
     "metadata": {},
     "output_type": "execute_result"
    }
   ],
   "source": [
    "#Exploratory Data Analysis\n",
    "dat=pd.read_csv('data.csv')\n",
    "dat.shape"
   ]
  },
  {
   "cell_type": "code",
   "execution_count": 167,
   "metadata": {},
   "outputs": [
    {
     "data": {
      "text/html": [
       "<div>\n",
       "<style scoped>\n",
       "    .dataframe tbody tr th:only-of-type {\n",
       "        vertical-align: middle;\n",
       "    }\n",
       "\n",
       "    .dataframe tbody tr th {\n",
       "        vertical-align: top;\n",
       "    }\n",
       "\n",
       "    .dataframe thead th {\n",
       "        text-align: right;\n",
       "    }\n",
       "</style>\n",
       "<table border=\"1\" class=\"dataframe\">\n",
       "  <thead>\n",
       "    <tr style=\"text-align: right;\">\n",
       "      <th></th>\n",
       "      <th>home_ownership</th>\n",
       "      <th>annual_inc</th>\n",
       "      <th>verification_status</th>\n",
       "      <th>issue_d</th>\n",
       "      <th>loan_status</th>\n",
       "      <th>purpose</th>\n",
       "      <th>addr_state</th>\n",
       "      <th>dti</th>\n",
       "      <th>earliest_cr_line</th>\n",
       "      <th>fico_range_low</th>\n",
       "      <th>...</th>\n",
       "      <th>last_credit_pull_d</th>\n",
       "      <th>last_fico_range_high</th>\n",
       "      <th>last_fico_range_low</th>\n",
       "      <th>acc_now_delinq</th>\n",
       "      <th>delinq_amnt</th>\n",
       "      <th>delinq_2yrs</th>\n",
       "      <th>mths_since_last_delinq</th>\n",
       "      <th>mths_since_last_record</th>\n",
       "      <th>inq_last_6mths</th>\n",
       "      <th>inq_last_12m</th>\n",
       "    </tr>\n",
       "  </thead>\n",
       "  <tbody>\n",
       "    <tr>\n",
       "      <th>0</th>\n",
       "      <td>RENT</td>\n",
       "      <td>100100.0</td>\n",
       "      <td>Verified</td>\n",
       "      <td>Sep-2016</td>\n",
       "      <td>Current</td>\n",
       "      <td>debt_consolidation</td>\n",
       "      <td>SC</td>\n",
       "      <td>27.42</td>\n",
       "      <td>Jan-1976</td>\n",
       "      <td>690</td>\n",
       "      <td>...</td>\n",
       "      <td>Dec-2016</td>\n",
       "      <td>709</td>\n",
       "      <td>705</td>\n",
       "      <td>0</td>\n",
       "      <td>0</td>\n",
       "      <td>0</td>\n",
       "      <td>26.0</td>\n",
       "      <td>NaN</td>\n",
       "      <td>0</td>\n",
       "      <td>0.0</td>\n",
       "    </tr>\n",
       "    <tr>\n",
       "      <th>1</th>\n",
       "      <td>MORTGAGE</td>\n",
       "      <td>235000.0</td>\n",
       "      <td>Source Verified</td>\n",
       "      <td>Apr-2016</td>\n",
       "      <td>Current</td>\n",
       "      <td>home_improvement</td>\n",
       "      <td>PA</td>\n",
       "      <td>7.50</td>\n",
       "      <td>Jan-1995</td>\n",
       "      <td>670</td>\n",
       "      <td>...</td>\n",
       "      <td>Dec-2016</td>\n",
       "      <td>649</td>\n",
       "      <td>645</td>\n",
       "      <td>0</td>\n",
       "      <td>0</td>\n",
       "      <td>1</td>\n",
       "      <td>16.0</td>\n",
       "      <td>NaN</td>\n",
       "      <td>1</td>\n",
       "      <td>3.0</td>\n",
       "    </tr>\n",
       "    <tr>\n",
       "      <th>2</th>\n",
       "      <td>RENT</td>\n",
       "      <td>84000.0</td>\n",
       "      <td>Not Verified</td>\n",
       "      <td>Jan-2016</td>\n",
       "      <td>Current</td>\n",
       "      <td>debt_consolidation</td>\n",
       "      <td>FL</td>\n",
       "      <td>27.87</td>\n",
       "      <td>Aug-1998</td>\n",
       "      <td>735</td>\n",
       "      <td>...</td>\n",
       "      <td>Dec-2016</td>\n",
       "      <td>739</td>\n",
       "      <td>735</td>\n",
       "      <td>0</td>\n",
       "      <td>0</td>\n",
       "      <td>0</td>\n",
       "      <td>80.0</td>\n",
       "      <td>NaN</td>\n",
       "      <td>0</td>\n",
       "      <td>2.0</td>\n",
       "    </tr>\n",
       "    <tr>\n",
       "      <th>3</th>\n",
       "      <td>RENT</td>\n",
       "      <td>50000.0</td>\n",
       "      <td>Source Verified</td>\n",
       "      <td>Jul-2015</td>\n",
       "      <td>Fully Paid</td>\n",
       "      <td>debt_consolidation</td>\n",
       "      <td>WV</td>\n",
       "      <td>21.65</td>\n",
       "      <td>Oct-1996</td>\n",
       "      <td>725</td>\n",
       "      <td>...</td>\n",
       "      <td>Oct-2016</td>\n",
       "      <td>749</td>\n",
       "      <td>745</td>\n",
       "      <td>0</td>\n",
       "      <td>0</td>\n",
       "      <td>0</td>\n",
       "      <td>NaN</td>\n",
       "      <td>42.0</td>\n",
       "      <td>0</td>\n",
       "      <td>NaN</td>\n",
       "    </tr>\n",
       "    <tr>\n",
       "      <th>4</th>\n",
       "      <td>MORTGAGE</td>\n",
       "      <td>68000.0</td>\n",
       "      <td>Not Verified</td>\n",
       "      <td>Feb-2016</td>\n",
       "      <td>Fully Paid</td>\n",
       "      <td>debt_consolidation</td>\n",
       "      <td>OH</td>\n",
       "      <td>29.09</td>\n",
       "      <td>Nov-2000</td>\n",
       "      <td>660</td>\n",
       "      <td>...</td>\n",
       "      <td>Dec-2016</td>\n",
       "      <td>709</td>\n",
       "      <td>705</td>\n",
       "      <td>0</td>\n",
       "      <td>0</td>\n",
       "      <td>0</td>\n",
       "      <td>NaN</td>\n",
       "      <td>NaN</td>\n",
       "      <td>2</td>\n",
       "      <td>5.0</td>\n",
       "    </tr>\n",
       "  </tbody>\n",
       "</table>\n",
       "<p>5 rows × 21 columns</p>\n",
       "</div>"
      ],
      "text/plain": [
       "  home_ownership  annual_inc verification_status   issue_d loan_status  \\\n",
       "0           RENT    100100.0            Verified  Sep-2016     Current   \n",
       "1       MORTGAGE    235000.0     Source Verified  Apr-2016     Current   \n",
       "2           RENT     84000.0        Not Verified  Jan-2016     Current   \n",
       "3           RENT     50000.0     Source Verified  Jul-2015  Fully Paid   \n",
       "4       MORTGAGE     68000.0        Not Verified  Feb-2016  Fully Paid   \n",
       "\n",
       "              purpose addr_state    dti earliest_cr_line  fico_range_low  \\\n",
       "0  debt_consolidation         SC  27.42         Jan-1976             690   \n",
       "1    home_improvement         PA   7.50         Jan-1995             670   \n",
       "2  debt_consolidation         FL  27.87         Aug-1998             735   \n",
       "3  debt_consolidation         WV  21.65         Oct-1996             725   \n",
       "4  debt_consolidation         OH  29.09         Nov-2000             660   \n",
       "\n",
       "       ...       last_credit_pull_d last_fico_range_high  last_fico_range_low  \\\n",
       "0      ...                 Dec-2016                  709                  705   \n",
       "1      ...                 Dec-2016                  649                  645   \n",
       "2      ...                 Dec-2016                  739                  735   \n",
       "3      ...                 Oct-2016                  749                  745   \n",
       "4      ...                 Dec-2016                  709                  705   \n",
       "\n",
       "   acc_now_delinq  delinq_amnt  delinq_2yrs  mths_since_last_delinq  \\\n",
       "0               0            0            0                    26.0   \n",
       "1               0            0            1                    16.0   \n",
       "2               0            0            0                    80.0   \n",
       "3               0            0            0                     NaN   \n",
       "4               0            0            0                     NaN   \n",
       "\n",
       "   mths_since_last_record  inq_last_6mths  inq_last_12m  \n",
       "0                     NaN               0           0.0  \n",
       "1                     NaN               1           3.0  \n",
       "2                     NaN               0           2.0  \n",
       "3                    42.0               0           NaN  \n",
       "4                     NaN               2           5.0  \n",
       "\n",
       "[5 rows x 21 columns]"
      ]
     },
     "execution_count": 167,
     "metadata": {},
     "output_type": "execute_result"
    }
   ],
   "source": [
    "dat.iloc[:,5:].head()"
   ]
  },
  {
   "cell_type": "code",
   "execution_count": 168,
   "metadata": {},
   "outputs": [
    {
     "data": {
      "text/html": [
       "<div>\n",
       "<style scoped>\n",
       "    .dataframe tbody tr th:only-of-type {\n",
       "        vertical-align: middle;\n",
       "    }\n",
       "\n",
       "    .dataframe tbody tr th {\n",
       "        vertical-align: top;\n",
       "    }\n",
       "\n",
       "    .dataframe thead th {\n",
       "        text-align: right;\n",
       "    }\n",
       "</style>\n",
       "<table border=\"1\" class=\"dataframe\">\n",
       "  <thead>\n",
       "    <tr style=\"text-align: right;\">\n",
       "      <th></th>\n",
       "      <th>id</th>\n",
       "      <th>loan_amnt</th>\n",
       "      <th>installment</th>\n",
       "      <th>annual_inc</th>\n",
       "      <th>dti</th>\n",
       "      <th>fico_range_low</th>\n",
       "      <th>fico_range_high</th>\n",
       "      <th>last_fico_range_high</th>\n",
       "      <th>last_fico_range_low</th>\n",
       "      <th>acc_now_delinq</th>\n",
       "      <th>delinq_amnt</th>\n",
       "      <th>delinq_2yrs</th>\n",
       "      <th>mths_since_last_delinq</th>\n",
       "      <th>mths_since_last_record</th>\n",
       "      <th>inq_last_6mths</th>\n",
       "      <th>inq_last_12m</th>\n",
       "    </tr>\n",
       "  </thead>\n",
       "  <tbody>\n",
       "    <tr>\n",
       "      <th>count</th>\n",
       "      <td>8.000000e+04</td>\n",
       "      <td>80000.000000</td>\n",
       "      <td>80000.000000</td>\n",
       "      <td>8.000000e+04</td>\n",
       "      <td>80000.000000</td>\n",
       "      <td>80000.000000</td>\n",
       "      <td>80000.000000</td>\n",
       "      <td>80000.000000</td>\n",
       "      <td>80000.000000</td>\n",
       "      <td>80000.000000</td>\n",
       "      <td>80000.000000</td>\n",
       "      <td>80000.000000</td>\n",
       "      <td>41786.000000</td>\n",
       "      <td>14532.000000</td>\n",
       "      <td>80000.000000</td>\n",
       "      <td>37395.000000</td>\n",
       "    </tr>\n",
       "    <tr>\n",
       "      <th>mean</th>\n",
       "      <td>6.474229e+07</td>\n",
       "      <td>15055.793750</td>\n",
       "      <td>443.595158</td>\n",
       "      <td>7.778995e+04</td>\n",
       "      <td>19.446568</td>\n",
       "      <td>694.314000</td>\n",
       "      <td>698.314112</td>\n",
       "      <td>693.328225</td>\n",
       "      <td>686.068437</td>\n",
       "      <td>0.006488</td>\n",
       "      <td>16.692025</td>\n",
       "      <td>0.352275</td>\n",
       "      <td>33.964558</td>\n",
       "      <td>66.776356</td>\n",
       "      <td>0.565950</td>\n",
       "      <td>2.184009</td>\n",
       "    </tr>\n",
       "    <tr>\n",
       "      <th>std</th>\n",
       "      <td>1.488143e+07</td>\n",
       "      <td>8729.299624</td>\n",
       "      <td>255.693326</td>\n",
       "      <td>8.648673e+04</td>\n",
       "      <td>61.871127</td>\n",
       "      <td>30.744603</td>\n",
       "      <td>30.745156</td>\n",
       "      <td>58.631248</td>\n",
       "      <td>79.416694</td>\n",
       "      <td>0.084235</td>\n",
       "      <td>848.289643</td>\n",
       "      <td>0.942411</td>\n",
       "      <td>21.997469</td>\n",
       "      <td>25.205219</td>\n",
       "      <td>0.863342</td>\n",
       "      <td>2.473969</td>\n",
       "    </tr>\n",
       "    <tr>\n",
       "      <th>min</th>\n",
       "      <td>6.510400e+04</td>\n",
       "      <td>1000.000000</td>\n",
       "      <td>30.120000</td>\n",
       "      <td>0.000000e+00</td>\n",
       "      <td>0.000000</td>\n",
       "      <td>660.000000</td>\n",
       "      <td>664.000000</td>\n",
       "      <td>0.000000</td>\n",
       "      <td>0.000000</td>\n",
       "      <td>0.000000</td>\n",
       "      <td>0.000000</td>\n",
       "      <td>0.000000</td>\n",
       "      <td>0.000000</td>\n",
       "      <td>0.000000</td>\n",
       "      <td>0.000000</td>\n",
       "      <td>0.000000</td>\n",
       "    </tr>\n",
       "    <tr>\n",
       "      <th>25%</th>\n",
       "      <td>5.389471e+07</td>\n",
       "      <td>8000.000000</td>\n",
       "      <td>258.100000</td>\n",
       "      <td>4.700000e+04</td>\n",
       "      <td>12.430000</td>\n",
       "      <td>670.000000</td>\n",
       "      <td>674.000000</td>\n",
       "      <td>669.000000</td>\n",
       "      <td>665.000000</td>\n",
       "      <td>0.000000</td>\n",
       "      <td>0.000000</td>\n",
       "      <td>0.000000</td>\n",
       "      <td>15.000000</td>\n",
       "      <td>50.000000</td>\n",
       "      <td>0.000000</td>\n",
       "      <td>0.000000</td>\n",
       "    </tr>\n",
       "    <tr>\n",
       "      <th>50%</th>\n",
       "      <td>6.571584e+07</td>\n",
       "      <td>13275.000000</td>\n",
       "      <td>382.500000</td>\n",
       "      <td>6.500000e+04</td>\n",
       "      <td>18.440000</td>\n",
       "      <td>685.000000</td>\n",
       "      <td>689.000000</td>\n",
       "      <td>699.000000</td>\n",
       "      <td>695.000000</td>\n",
       "      <td>0.000000</td>\n",
       "      <td>0.000000</td>\n",
       "      <td>0.000000</td>\n",
       "      <td>31.000000</td>\n",
       "      <td>68.000000</td>\n",
       "      <td>0.000000</td>\n",
       "      <td>1.000000</td>\n",
       "    </tr>\n",
       "    <tr>\n",
       "      <th>75%</th>\n",
       "      <td>7.612197e+07</td>\n",
       "      <td>20000.000000</td>\n",
       "      <td>585.080000</td>\n",
       "      <td>9.250000e+04</td>\n",
       "      <td>25.170000</td>\n",
       "      <td>710.000000</td>\n",
       "      <td>714.000000</td>\n",
       "      <td>729.000000</td>\n",
       "      <td>725.000000</td>\n",
       "      <td>0.000000</td>\n",
       "      <td>0.000000</td>\n",
       "      <td>0.000000</td>\n",
       "      <td>50.000000</td>\n",
       "      <td>83.000000</td>\n",
       "      <td>1.000000</td>\n",
       "      <td>3.000000</td>\n",
       "    </tr>\n",
       "    <tr>\n",
       "      <th>max</th>\n",
       "      <td>9.094516e+07</td>\n",
       "      <td>40000.000000</td>\n",
       "      <td>1536.950000</td>\n",
       "      <td>8.706582e+06</td>\n",
       "      <td>9999.000000</td>\n",
       "      <td>845.000000</td>\n",
       "      <td>850.000000</td>\n",
       "      <td>850.000000</td>\n",
       "      <td>845.000000</td>\n",
       "      <td>3.000000</td>\n",
       "      <td>110626.000000</td>\n",
       "      <td>39.000000</td>\n",
       "      <td>146.000000</td>\n",
       "      <td>119.000000</td>\n",
       "      <td>6.000000</td>\n",
       "      <td>36.000000</td>\n",
       "    </tr>\n",
       "  </tbody>\n",
       "</table>\n",
       "</div>"
      ],
      "text/plain": [
       "                 id     loan_amnt   installment    annual_inc           dti  \\\n",
       "count  8.000000e+04  80000.000000  80000.000000  8.000000e+04  80000.000000   \n",
       "mean   6.474229e+07  15055.793750    443.595158  7.778995e+04     19.446568   \n",
       "std    1.488143e+07   8729.299624    255.693326  8.648673e+04     61.871127   \n",
       "min    6.510400e+04   1000.000000     30.120000  0.000000e+00      0.000000   \n",
       "25%    5.389471e+07   8000.000000    258.100000  4.700000e+04     12.430000   \n",
       "50%    6.571584e+07  13275.000000    382.500000  6.500000e+04     18.440000   \n",
       "75%    7.612197e+07  20000.000000    585.080000  9.250000e+04     25.170000   \n",
       "max    9.094516e+07  40000.000000   1536.950000  8.706582e+06   9999.000000   \n",
       "\n",
       "       fico_range_low  fico_range_high  last_fico_range_high  \\\n",
       "count    80000.000000     80000.000000          80000.000000   \n",
       "mean       694.314000       698.314112            693.328225   \n",
       "std         30.744603        30.745156             58.631248   \n",
       "min        660.000000       664.000000              0.000000   \n",
       "25%        670.000000       674.000000            669.000000   \n",
       "50%        685.000000       689.000000            699.000000   \n",
       "75%        710.000000       714.000000            729.000000   \n",
       "max        845.000000       850.000000            850.000000   \n",
       "\n",
       "       last_fico_range_low  acc_now_delinq    delinq_amnt   delinq_2yrs  \\\n",
       "count         80000.000000    80000.000000   80000.000000  80000.000000   \n",
       "mean            686.068437        0.006488      16.692025      0.352275   \n",
       "std              79.416694        0.084235     848.289643      0.942411   \n",
       "min               0.000000        0.000000       0.000000      0.000000   \n",
       "25%             665.000000        0.000000       0.000000      0.000000   \n",
       "50%             695.000000        0.000000       0.000000      0.000000   \n",
       "75%             725.000000        0.000000       0.000000      0.000000   \n",
       "max             845.000000        3.000000  110626.000000     39.000000   \n",
       "\n",
       "       mths_since_last_delinq  mths_since_last_record  inq_last_6mths  \\\n",
       "count            41786.000000            14532.000000    80000.000000   \n",
       "mean                33.964558               66.776356        0.565950   \n",
       "std                 21.997469               25.205219        0.863342   \n",
       "min                  0.000000                0.000000        0.000000   \n",
       "25%                 15.000000               50.000000        0.000000   \n",
       "50%                 31.000000               68.000000        0.000000   \n",
       "75%                 50.000000               83.000000        1.000000   \n",
       "max                146.000000              119.000000        6.000000   \n",
       "\n",
       "       inq_last_12m  \n",
       "count  37395.000000  \n",
       "mean       2.184009  \n",
       "std        2.473969  \n",
       "min        0.000000  \n",
       "25%        0.000000  \n",
       "50%        1.000000  \n",
       "75%        3.000000  \n",
       "max       36.000000  "
      ]
     },
     "execution_count": 168,
     "metadata": {},
     "output_type": "execute_result"
    }
   ],
   "source": [
    "#We note there are a few outliers, especially within delinq_amnt and inq_last_12m...\n",
    "dat.describe()"
   ]
  },
  {
   "cell_type": "code",
   "execution_count": 169,
   "metadata": {},
   "outputs": [
    {
     "data": {
      "text/plain": [
       "id                          int64\n",
       "loan_amnt                   int64\n",
       "term                       object\n",
       "installment               float64\n",
       "emp_length                 object\n",
       "home_ownership             object\n",
       "annual_inc                float64\n",
       "verification_status        object\n",
       "issue_d                    object\n",
       "loan_status                object\n",
       "purpose                    object\n",
       "addr_state                 object\n",
       "dti                       float64\n",
       "earliest_cr_line           object\n",
       "fico_range_low              int64\n",
       "fico_range_high             int64\n",
       "last_credit_pull_d         object\n",
       "last_fico_range_high        int64\n",
       "last_fico_range_low         int64\n",
       "acc_now_delinq              int64\n",
       "delinq_amnt                 int64\n",
       "delinq_2yrs                 int64\n",
       "mths_since_last_delinq    float64\n",
       "mths_since_last_record    float64\n",
       "inq_last_6mths              int64\n",
       "inq_last_12m              float64\n",
       "dtype: object"
      ]
     },
     "execution_count": 169,
     "metadata": {},
     "output_type": "execute_result"
    }
   ],
   "source": [
    "#The dates will need to be converted to proper datetime...\n",
    "dat.dtypes"
   ]
  },
  {
   "cell_type": "code",
   "execution_count": 170,
   "metadata": {},
   "outputs": [
    {
     "data": {
      "text/plain": [
       "Current       62429\n",
       "Fully Paid    11534\n",
       "Default        6037\n",
       "Name: loan_status, dtype: int64"
      ]
     },
     "execution_count": 170,
     "metadata": {},
     "output_type": "execute_result"
    }
   ],
   "source": [
    "#We note deefaults are a little less than 10% of outstanding samples...\n",
    "dat.loan_status.value_counts()"
   ]
  },
  {
   "cell_type": "markdown",
   "metadata": {},
   "source": [
    "The most useful dependent variable is probably loan status, since it indicates default. However since it only indicates the CURRENT status of the loan, it may miss previous delinquencies on this same loan.\n",
    "\n",
    "Because of this issue, I also considered to use the median change in FICO score, which should capture change in overall creditworthiness and severity of such change. However since it was not clear how updated the \"last FICO score\" is, this could have had undesireable effects and so I decided against this measure.\n",
    "\n",
    "For simplicity we will consider all defaults equal. However depending on the business needs, we could potentially bucket defaults by different levels of severity, such as tying it to installment amount or term, or some combination of both."
   ]
  },
  {
   "cell_type": "code",
   "execution_count": 1,
   "metadata": {},
   "outputs": [
    {
     "ename": "NameError",
     "evalue": "name 'dat' is not defined",
     "output_type": "error",
     "traceback": [
      "\u001b[1;31m---------------------------------------------------------------------------\u001b[0m",
      "\u001b[1;31mNameError\u001b[0m                                 Traceback (most recent call last)",
      "\u001b[1;32m<ipython-input-1-ff19b660d9ee>\u001b[0m in \u001b[0;36m<module>\u001b[1;34m()\u001b[0m\n\u001b[0;32m      1\u001b[0m \u001b[1;31m#NA analysis\u001b[0m\u001b[1;33m\u001b[0m\u001b[1;33m\u001b[0m\u001b[0m\n\u001b[1;32m----> 2\u001b[1;33m \u001b[0mdat\u001b[0m\u001b[1;33m.\u001b[0m\u001b[0misnull\u001b[0m\u001b[1;33m(\u001b[0m\u001b[1;33m)\u001b[0m\u001b[1;33m.\u001b[0m\u001b[0msum\u001b[0m\u001b[1;33m(\u001b[0m\u001b[0maxis\u001b[0m \u001b[1;33m=\u001b[0m \u001b[1;36m0\u001b[0m\u001b[1;33m)\u001b[0m\u001b[1;33m\u001b[0m\u001b[0m\n\u001b[0m",
      "\u001b[1;31mNameError\u001b[0m: name 'dat' is not defined"
     ]
    }
   ],
   "source": [
    "#NA analysis\n",
    "dat.isnull().sum(axis = 0)"
   ]
  },
  {
   "cell_type": "code",
   "execution_count": 172,
   "metadata": {},
   "outputs": [],
   "source": [
    "#Drop columns where >33% of values are NA\n",
    "\n",
    "for i in list(dat):\n",
    "    if dat.loc[:,i].isnull().sum()/dat.shape[0] > .33:\n",
    "        dat.drop(i,axis=1,inplace=True)"
   ]
  },
  {
   "cell_type": "code",
   "execution_count": 173,
   "metadata": {},
   "outputs": [
    {
     "name": "stdout",
     "output_type": "stream",
     "text": [
      "No outstanding NAs remaining:\n",
      "id                      0\n",
      "loan_amnt               0\n",
      "term                    0\n",
      "installment             0\n",
      "emp_length              0\n",
      "home_ownership          0\n",
      "annual_inc              0\n",
      "verification_status     0\n",
      "issue_d                 0\n",
      "loan_status             0\n",
      "purpose                 0\n",
      "addr_state              0\n",
      "dti                     0\n",
      "earliest_cr_line        0\n",
      "fico_range_low          0\n",
      "fico_range_high         0\n",
      "last_credit_pull_d      0\n",
      "last_fico_range_high    0\n",
      "last_fico_range_low     0\n",
      "acc_now_delinq          0\n",
      "delinq_amnt             0\n",
      "delinq_2yrs             0\n",
      "inq_last_6mths          0\n",
      "dtype: int64\n"
     ]
    }
   ],
   "source": [
    "#Randomly replace remaining NAs\n",
    "\n",
    "def NA_randreplace(df):\n",
    "    #Replaces NAs IN-PLACE by random selection\n",
    "    for i in list(df):\n",
    "        rows=pd.isnull(df.loc[:,i]) #NA detector\n",
    "        index=rows.loc[rows==True].index #filter for NAs\n",
    "        Nan_Index=df.loc[index,i].index #Targeted rows for replacement\n",
    "        \n",
    "        k=df.loc[:,i].isna().sum() #number of NAs to fill\n",
    "        not_nas=list(df.loc[df.loc[:,i].notna(),i]) #Create Not-NAs pool to sample\n",
    "        fill_list=random.choices(not_nas,k=k) #randomly select\n",
    "        \n",
    "        df.loc[Nan_Index,i]=fill_list #replace\n",
    "        \n",
    "NA_randreplace(dat)\n",
    "\n",
    "print(\"No outstanding NAs remaining:\")\n",
    "print(dat.isnull().sum(axis = 0))"
   ]
  },
  {
   "cell_type": "code",
   "execution_count": 174,
   "metadata": {
    "scrolled": true
   },
   "outputs": [],
   "source": [
    "#We also drop the following variables\n",
    "\n",
    "#Issue_d - since the loans were issues within a relatively narrow timeframe (Jan '15 - Sep '16)\n",
    "dat.drop('issue_d',axis=1,inplace=True)\n",
    "\n",
    "#ID - remove an arbitrary identifiers\n",
    "dat.drop('id',axis=1,inplace=True)"
   ]
  },
  {
   "cell_type": "code",
   "execution_count": 175,
   "metadata": {},
   "outputs": [],
   "source": [
    "#Convert to datetime\n",
    "dat['earliest_cr_line'] = dat['earliest_cr_line'].astype('datetime64')\n",
    "dat['last_credit_pull_d'] = dat['last_credit_pull_d'].astype('datetime64')"
   ]
  },
  {
   "cell_type": "code",
   "execution_count": 176,
   "metadata": {},
   "outputs": [
    {
     "name": "stdout",
     "output_type": "stream",
     "text": [
      "Before: ['6 years' '10+ years' '5 years' '3 years' '< 1 year' '7 years' '8 years'\n",
      " '2 years' '1 year' '4 years' '9 years'] \n",
      "\n",
      "After: [ 6 10  5  3  0  7  4  8  2  1  9]\n"
     ]
    }
   ],
   "source": [
    "#Convert EMPLOYMENT LENGTH labels into ordinal scale\n",
    "\n",
    "print(\"Before:\",dat.emp_length.unique(),\"\\n\")\n",
    "\n",
    "keys = dat.emp_length.unique()\n",
    "values = [6,10,5,3,0,7,4,8,2,1,9]\n",
    "dictionary = dict(zip(keys, values))\n",
    "\n",
    "dat.loc[:,'emp_length'] = [dictionary[x] for x in dat.emp_length]\n",
    "\n",
    "print(\"After:\",dat.emp_length.unique())"
   ]
  },
  {
   "cell_type": "code",
   "execution_count": 177,
   "metadata": {},
   "outputs": [
    {
     "name": "stdout",
     "output_type": "stream",
     "text": [
      "Before: ['Current' 'Fully Paid' 'Default'] \n",
      "\n",
      "After: [0 1]\n"
     ]
    }
   ],
   "source": [
    "#Convert lOAN STATUS labels into non-default and default\n",
    "print(\"Before:\",dat.loan_status.unique(),\"\\n\")\n",
    "\n",
    "keys = dat.loan_status.unique()\n",
    "values = [0,0,1]\n",
    "dictionary = dict(zip(keys, values))\n",
    "\n",
    "dat.loc[:,'loan_status'] = [dictionary[x] for x in dat.loan_status]\n",
    "\n",
    "print(\"After:\",dat.loan_status.unique())"
   ]
  },
  {
   "cell_type": "code",
   "execution_count": 178,
   "metadata": {},
   "outputs": [
    {
     "name": "stdout",
     "output_type": "stream",
     "text": [
      "Since the range between high and low is so consistent, being almost all 4, we will not utilize it as a variable: \n",
      " (array([-5., -4.]), array([    9, 79991], dtype=int64)) \n",
      "\n",
      "Last_FICO ranges are different in that 1% of values have low of 0 and high of 499. This seems to represent some general bucket for very weak credit. Since there is not much variance within this category, making a range factor is probably not useful.\n"
     ]
    }
   ],
   "source": [
    "#Convert FICO scores into medians & ranges. Replace original fico variables with these new measures\n",
    "\n",
    "#Convert:\n",
    "fico_median = np.median((dat.fico_range_low,dat.fico_range_high),axis=0)\n",
    "print(\"Since the range between high and low is so consistent, being almost all 4, we will not utilize it as a variable:\",\"\\n\",np.unique(np.array(dat.fico_range_low-dat.fico_range_high), return_counts=True),\"\\n\")\n",
    "\n",
    "last_fico_median = np.median((dat.last_fico_range_low,dat.last_fico_range_high),axis=0)\n",
    "print(\"Last_FICO ranges are different in that 1% of values have low of 0 and high of 499. This seems to represent some general bucket for very weak credit. Since there is not much variance within this category, making a range factor is probably not useful.\")\n",
    "\n",
    "#Replace:\n",
    "dat=pd.concat((dat,pd.Series(fico_median,name='fico_median'),pd.Series(last_fico_median,name='last_fico_median')),axis=1)\n",
    "dat.drop(['fico_range_low','fico_range_high','last_fico_range_low','last_fico_range_high'],axis=1,inplace=True)"
   ]
  },
  {
   "cell_type": "code",
   "execution_count": 179,
   "metadata": {},
   "outputs": [],
   "source": [
    "#Binarize TERM from 36 months & 60 months to 0 and 1 respectively \n",
    "\n",
    "from sklearn.preprocessing import LabelBinarizer\n",
    "lb = LabelBinarizer()\n",
    "lb.fit(dat.term)\n",
    "dat.loc[:,'term']=lb.transform(dat.term.values).reshape(-1)"
   ]
  },
  {
   "cell_type": "code",
   "execution_count": 180,
   "metadata": {},
   "outputs": [],
   "source": [
    "#Convert dates to age\n",
    "record_date = pd.to_datetime('1/23/2017')\n",
    "dat.loc[:,'earliest_cr_line']=abs(pd.Series(dat.earliest_cr_line-record_date).dt.days)\n",
    "dat.loc[:,'last_credit_pull_d']=abs(pd.Series(dat.last_credit_pull_d-record_date).dt.days)"
   ]
  },
  {
   "cell_type": "code",
   "execution_count": 181,
   "metadata": {},
   "outputs": [],
   "source": [
    "#Drop anachronistic variables\n",
    "dat.drop(['last_fico_median','last_credit_pull_d'],axis=1,inplace=True)"
   ]
  },
  {
   "cell_type": "code",
   "execution_count": 182,
   "metadata": {},
   "outputs": [
    {
     "data": {
      "text/html": [
       "<div>\n",
       "<style scoped>\n",
       "    .dataframe tbody tr th:only-of-type {\n",
       "        vertical-align: middle;\n",
       "    }\n",
       "\n",
       "    .dataframe tbody tr th {\n",
       "        vertical-align: top;\n",
       "    }\n",
       "\n",
       "    .dataframe thead th {\n",
       "        text-align: right;\n",
       "    }\n",
       "</style>\n",
       "<table border=\"1\" class=\"dataframe\">\n",
       "  <thead>\n",
       "    <tr style=\"text-align: right;\">\n",
       "      <th></th>\n",
       "      <th>loan_amnt</th>\n",
       "      <th>term</th>\n",
       "      <th>installment</th>\n",
       "      <th>emp_length</th>\n",
       "      <th>home_ownership</th>\n",
       "      <th>annual_inc</th>\n",
       "      <th>verification_status</th>\n",
       "      <th>loan_status</th>\n",
       "      <th>purpose</th>\n",
       "      <th>addr_state</th>\n",
       "      <th>dti</th>\n",
       "      <th>earliest_cr_line</th>\n",
       "      <th>acc_now_delinq</th>\n",
       "      <th>delinq_amnt</th>\n",
       "      <th>delinq_2yrs</th>\n",
       "      <th>inq_last_6mths</th>\n",
       "      <th>fico_median</th>\n",
       "    </tr>\n",
       "  </thead>\n",
       "  <tbody>\n",
       "    <tr>\n",
       "      <th>0</th>\n",
       "      <td>30000.0</td>\n",
       "      <td>1</td>\n",
       "      <td>761.64</td>\n",
       "      <td>6</td>\n",
       "      <td>RENT</td>\n",
       "      <td>100100.0</td>\n",
       "      <td>Verified</td>\n",
       "      <td>0</td>\n",
       "      <td>debt_consolidation</td>\n",
       "      <td>SC</td>\n",
       "      <td>27.42</td>\n",
       "      <td>14998</td>\n",
       "      <td>0.0</td>\n",
       "      <td>0.0</td>\n",
       "      <td>0.0</td>\n",
       "      <td>0.0</td>\n",
       "      <td>692.0</td>\n",
       "    </tr>\n",
       "    <tr>\n",
       "      <th>1</th>\n",
       "      <td>30000.0</td>\n",
       "      <td>1</td>\n",
       "      <td>692.93</td>\n",
       "      <td>10</td>\n",
       "      <td>MORTGAGE</td>\n",
       "      <td>235000.0</td>\n",
       "      <td>Source Verified</td>\n",
       "      <td>0</td>\n",
       "      <td>home_improvement</td>\n",
       "      <td>PA</td>\n",
       "      <td>7.50</td>\n",
       "      <td>8058</td>\n",
       "      <td>0.0</td>\n",
       "      <td>0.0</td>\n",
       "      <td>1.0</td>\n",
       "      <td>1.0</td>\n",
       "      <td>672.0</td>\n",
       "    </tr>\n",
       "    <tr>\n",
       "      <th>2</th>\n",
       "      <td>16000.0</td>\n",
       "      <td>1</td>\n",
       "      <td>379.39</td>\n",
       "      <td>6</td>\n",
       "      <td>RENT</td>\n",
       "      <td>84000.0</td>\n",
       "      <td>Not Verified</td>\n",
       "      <td>0</td>\n",
       "      <td>debt_consolidation</td>\n",
       "      <td>FL</td>\n",
       "      <td>27.87</td>\n",
       "      <td>6750</td>\n",
       "      <td>0.0</td>\n",
       "      <td>0.0</td>\n",
       "      <td>0.0</td>\n",
       "      <td>0.0</td>\n",
       "      <td>737.0</td>\n",
       "    </tr>\n",
       "    <tr>\n",
       "      <th>3</th>\n",
       "      <td>14000.0</td>\n",
       "      <td>0</td>\n",
       "      <td>439.88</td>\n",
       "      <td>5</td>\n",
       "      <td>RENT</td>\n",
       "      <td>50000.0</td>\n",
       "      <td>Source Verified</td>\n",
       "      <td>0</td>\n",
       "      <td>debt_consolidation</td>\n",
       "      <td>WV</td>\n",
       "      <td>21.65</td>\n",
       "      <td>7419</td>\n",
       "      <td>0.0</td>\n",
       "      <td>0.0</td>\n",
       "      <td>0.0</td>\n",
       "      <td>0.0</td>\n",
       "      <td>727.0</td>\n",
       "    </tr>\n",
       "    <tr>\n",
       "      <th>4</th>\n",
       "      <td>7500.0</td>\n",
       "      <td>0</td>\n",
       "      <td>252.67</td>\n",
       "      <td>3</td>\n",
       "      <td>MORTGAGE</td>\n",
       "      <td>68000.0</td>\n",
       "      <td>Not Verified</td>\n",
       "      <td>0</td>\n",
       "      <td>debt_consolidation</td>\n",
       "      <td>OH</td>\n",
       "      <td>29.09</td>\n",
       "      <td>5927</td>\n",
       "      <td>0.0</td>\n",
       "      <td>0.0</td>\n",
       "      <td>0.0</td>\n",
       "      <td>2.0</td>\n",
       "      <td>662.0</td>\n",
       "    </tr>\n",
       "  </tbody>\n",
       "</table>\n",
       "</div>"
      ],
      "text/plain": [
       "   loan_amnt  term  installment  emp_length home_ownership  annual_inc  \\\n",
       "0    30000.0     1       761.64           6           RENT    100100.0   \n",
       "1    30000.0     1       692.93          10       MORTGAGE    235000.0   \n",
       "2    16000.0     1       379.39           6           RENT     84000.0   \n",
       "3    14000.0     0       439.88           5           RENT     50000.0   \n",
       "4     7500.0     0       252.67           3       MORTGAGE     68000.0   \n",
       "\n",
       "  verification_status  loan_status             purpose addr_state    dti  \\\n",
       "0            Verified            0  debt_consolidation         SC  27.42   \n",
       "1     Source Verified            0    home_improvement         PA   7.50   \n",
       "2        Not Verified            0  debt_consolidation         FL  27.87   \n",
       "3     Source Verified            0  debt_consolidation         WV  21.65   \n",
       "4        Not Verified            0  debt_consolidation         OH  29.09   \n",
       "\n",
       "   earliest_cr_line  acc_now_delinq  delinq_amnt  delinq_2yrs  inq_last_6mths  \\\n",
       "0             14998             0.0          0.0          0.0             0.0   \n",
       "1              8058             0.0          0.0          1.0             1.0   \n",
       "2              6750             0.0          0.0          0.0             0.0   \n",
       "3              7419             0.0          0.0          0.0             0.0   \n",
       "4              5927             0.0          0.0          0.0             2.0   \n",
       "\n",
       "   fico_median  \n",
       "0        692.0  \n",
       "1        672.0  \n",
       "2        737.0  \n",
       "3        727.0  \n",
       "4        662.0  "
      ]
     },
     "execution_count": 182,
     "metadata": {},
     "output_type": "execute_result"
    }
   ],
   "source": [
    "#Resulting data (before encoding)\n",
    "dat.head()"
   ]
  },
  {
   "cell_type": "code",
   "execution_count": 183,
   "metadata": {
    "scrolled": true
   },
   "outputs": [],
   "source": [
    "#Now codify the rest! (i.e. state, home ownership, verification status, purpose)\n",
    "dat=pd.get_dummies(dat)"
   ]
  },
  {
   "cell_type": "code",
   "execution_count": 184,
   "metadata": {
    "scrolled": true
   },
   "outputs": [
    {
     "name": "stderr",
     "output_type": "stream",
     "text": [
      "C:\\Users\\Anthony\\Anaconda3\\lib\\site-packages\\numpy\\lib\\function_base.py:2400: RuntimeWarning: invalid value encountered in true_divide\n",
      "  c /= stddev[:, None]\n",
      "C:\\Users\\Anthony\\Anaconda3\\lib\\site-packages\\numpy\\lib\\function_base.py:2401: RuntimeWarning: invalid value encountered in true_divide\n",
      "  c /= stddev[None, :]\n"
     ]
    },
    {
     "data": {
      "text/plain": [
       "fico_median                         0.042025\n",
       "term                                0.015660\n",
       "verification_status_Not Verified    0.015055\n",
       "verification_status_Verified        0.009419\n",
       "inq_last_6mths                      0.008529\n",
       "purpose_debt_consolidation          0.007923\n",
       "purpose_credit_card                 0.007354\n",
       "earliest_cr_line                    0.007079\n",
       "home_ownership_RENT                 0.005895\n",
       "home_ownership_MORTGAGE             0.004859\n",
       "dtype: float64"
      ]
     },
     "execution_count": 184,
     "metadata": {},
     "output_type": "execute_result"
    }
   ],
   "source": [
    "#Question 1 - C\n",
    "#Single pairwise correlation between defaults and variables aren't strong...\n",
    "R_sq=pd.Series([np.corrcoef(x, y_sm.T)[0][1]**2 for x in X_sm.T],index=x_train.columns)\n",
    "R_sq.sort_values(ascending=False).head(10)"
   ]
  },
  {
   "cell_type": "code",
   "execution_count": 185,
   "metadata": {},
   "outputs": [
    {
     "name": "stderr",
     "output_type": "stream",
     "text": [
      "C:\\Users\\Anthony\\Anaconda3\\lib\\site-packages\\sklearn\\preprocessing\\data.py:645: DataConversionWarning: Data with input dtype uint8, int32, int64, float64 were all converted to float64 by StandardScaler.\n",
      "  return self.partial_fit(X, y)\n",
      "C:\\Users\\Anthony\\Anaconda3\\lib\\site-packages\\ipykernel_launcher.py:22: DataConversionWarning: Data with input dtype uint8, int32, int64, float64 were all converted to float64 by StandardScaler.\n",
      "C:\\Users\\Anthony\\Anaconda3\\lib\\site-packages\\ipykernel_launcher.py:23: DataConversionWarning: Data with input dtype uint8, int32, int64, float64 were all converted to float64 by StandardScaler.\n"
     ]
    }
   ],
   "source": [
    "#Split, Standardize, Rebalance Train\n",
    "from sklearn.model_selection import train_test_split\n",
    "train, test = train_test_split(dat, test_size = 0.30,stratify=dat.loan_status, random_state = 43)\n",
    "\n",
    "#Predictors\n",
    "x_train=train.drop(columns='loan_status')\n",
    "x_test=test.drop(columns='loan_status')\n",
    "\n",
    "#Target\n",
    "y_train = train.loc[:,\"loan_status\"]\n",
    "y_test= test.loc[:,\"loan_status\"]\n",
    "\n",
    "\n",
    "#Standardize data 0-1\n",
    "from sklearn.preprocessing import StandardScaler\n",
    "\n",
    "#Save column names\n",
    "cols=list(x_train)\n",
    "\n",
    "# #Scale the data\n",
    "std_scale = StandardScaler().fit(x_train)\n",
    "x_train = std_scale.transform(x_train) \n",
    "x_test = std_scale.transform(x_test) \n",
    "\n",
    "#Return to pandas dataframe from numpy array\n",
    "x_train=pd.DataFrame(x_train)\n",
    "x_train.columns=cols\n",
    "x_test=pd.DataFrame(x_test)\n",
    "x_test.columns=cols"
   ]
  },
  {
   "cell_type": "code",
   "execution_count": 186,
   "metadata": {},
   "outputs": [],
   "source": [
    "#Compensate for class imbalances\n",
    "##Using SMOTE to create synthetic new samples that are similar to existing default samples\n",
    "##We now have a 50/50 split between defaults and non-defaults\n",
    "\n",
    "from imblearn.over_sampling import SMOTE\n",
    "\n",
    "smote = SMOTE(ratio='minority')\n",
    "X_sm, y_sm = smote.fit_sample(x_train, y_train)"
   ]
  },
  {
   "cell_type": "code",
   "execution_count": 187,
   "metadata": {},
   "outputs": [
    {
     "name": "stderr",
     "output_type": "stream",
     "text": [
      "C:\\Users\\Anthony\\Anaconda3\\lib\\site-packages\\sklearn\\linear_model\\logistic.py:433: FutureWarning: Default solver will be changed to 'lbfgs' in 0.22. Specify a solver to silence this warning.\n",
      "  FutureWarning)\n"
     ]
    },
    {
     "name": "stdout",
     "output_type": "stream",
     "text": [
      "Accuracy:  0.627\n",
      "Precision:  0.116\n",
      "Recall:  0.592\n"
     ]
    },
    {
     "data": {
      "text/plain": [
       "array([[0.58245833, 0.34208333],\n",
       "       [0.03075   , 0.04470833]])"
      ]
     },
     "execution_count": 187,
     "metadata": {},
     "output_type": "execute_result"
    }
   ],
   "source": [
    "#Model 1 - Logistic Regression\n",
    "\n",
    "from sklearn.linear_model import LogisticRegression\n",
    "from sklearn.metrics import confusion_matrix\n",
    "\n",
    "clf = LogisticRegression(random_state=0).fit(X_sm, y_sm)\n",
    "y_pred = clf.predict(x_test)\n",
    "\n",
    "print('Accuracy: ',np.round(clf.score(x_test, y_test),3))\n",
    "print('Precision: ',np.round(confusion_matrix(y_test, y_pred)[1,1]/np.sum(confusion_matrix(y_test, y_pred)[:,1]),3))\n",
    "print('Recall: ',np.round(confusion_matrix(y_test, y_pred)[1,1]/np.sum(confusion_matrix(y_test, y_pred)[1,:]),3))\n",
    "confusion_matrix(y_test, y_pred)/np.sum(confusion_matrix(y_test, y_pred))"
   ]
  },
  {
   "cell_type": "code",
   "execution_count": 188,
   "metadata": {
    "scrolled": false
   },
   "outputs": [
    {
     "data": {
      "image/png": "[encoded data removed]",
      "text/plain": [
       "<Figure size 432x288 with 1 Axes>"
      ]
     },
     "metadata": {},
     "output_type": "display_data"
    },
    {
     "name": "stdout",
     "output_type": "stream",
     "text": [
      "Optimal threshold:  0.5995275962609495\n",
      "Accuracy:  0.779\n",
      "Precision:  0.139\n",
      "Recall:  0.372\n"
     ]
    },
    {
     "data": {
      "text/plain": [
       "array([[0.750625  , 0.17391667],\n",
       "       [0.04741667, 0.02804167]])"
      ]
     },
     "execution_count": 188,
     "metadata": {},
     "output_type": "execute_result"
    }
   ],
   "source": [
    "#Optimize model threshold\n",
    "\n",
    "#AUC\n",
    "from sklearn.metrics import auc, roc_curve\n",
    "import matplotlib.pyplot as plt\n",
    "\n",
    "fpr, tpr, thresholds = roc_curve(y_test, clf.predict_proba(x_test)[:,1] ) #runs through various thresholds and results\n",
    "roc_auc = auc(fpr, tpr) #calculated area under curve\n",
    "plt.title('Receiver Operating Characteristic')\n",
    "plt.plot(fpr, tpr, label='AUC = %0.4f'% roc_auc)\n",
    "plt.legend(loc='lower right')\n",
    "plt.plot([0,1],[0,1],'r--')\n",
    "plt.xlim([-0.001, 1])\n",
    "plt.ylim([0, 1.001])\n",
    "plt.ylabel('True Positive Rate')\n",
    "plt.xlabel('False Positive Rate')\n",
    "plt.show();\n",
    "\n",
    "#Threshold\n",
    "best_index=np.argmax(tpr-np.array(range(len(fpr)))/len(fpr))\n",
    "threshold = thresholds[best_index]\n",
    "print(\"Optimal threshold: \",threshold)\n",
    "\n",
    "#Using the optimal threshold improves our score from 90% to 95%\n",
    "#Precision increased but the true positive rate is lower\n",
    "#To determine the optimal balance we need more information, specifically what is the ratio of average cost per default vs. profit from non-defaulter\n",
    "new_pred=[1 if x>threshold else 0 for x in clf.predict_proba(x_test)[:,1] ]\n",
    "confusion_matrix(y_test, new_pred)/np.sum(confusion_matrix(y_test, new_pred))\n",
    "\n",
    "\n",
    "print('Accuracy: ',np.round((confusion_matrix(y_test, new_pred)[1,1]+confusion_matrix(y_test, new_pred)[0,0])/np.sum(confusion_matrix(y_test, new_pred)),3))\n",
    "print('Precision: ',np.round(confusion_matrix(y_test, new_pred)[1,1]/np.sum(confusion_matrix(y_test, new_pred)[:,1]),3))\n",
    "print('Recall: ',np.round(confusion_matrix(y_test, new_pred)[1,1]/np.sum(confusion_matrix(y_test, new_pred)[1,:]),3))\n",
    "confusion_matrix(y_test, new_pred)/np.sum(confusion_matrix(y_test, new_pred))"
   ]
  },
  {
   "cell_type": "markdown",
   "metadata": {},
   "source": [
    "Logistic Regression Conclusions: The first logistical regression fit captured more of the defaulters, but at the cost of many false positives. The second, optimized fit had less false positives and higher overall accuracy, but captured some less defaulters."
   ]
  },
  {
   "cell_type": "code",
   "execution_count": 189,
   "metadata": {},
   "outputs": [
    {
     "name": "stdout",
     "output_type": "stream",
     "text": [
      "Fitting 5 folds for each of 12 candidates, totalling 60 fits\n"
     ]
    },
    {
     "name": "stderr",
     "output_type": "stream",
     "text": [
      "[Parallel(n_jobs=-1)]: Using backend LokyBackend with 8 concurrent workers.\n",
      "[Parallel(n_jobs=-1)]: Done   2 tasks      | elapsed:   40.4s\n",
      "[Parallel(n_jobs=-1)]: Done  58 out of  60 | elapsed:   55.8s remaining:    1.8s\n",
      "[Parallel(n_jobs=-1)]: Done  60 out of  60 | elapsed:   56.1s finished\n"
     ]
    },
    {
     "name": "stdout",
     "output_type": "stream",
     "text": [
      "The following are the most optimal parameters found within my grid search: \n",
      "\n",
      "{'max_depth': 25, 'max_features': 75, 'random_state': 11} \n",
      "\n",
      "This represents the model to use: \n",
      "\n",
      "DecisionTreeClassifier(class_weight=None, criterion='gini', max_depth=25,\n",
      "            max_features=75, max_leaf_nodes=None,\n",
      "            min_impurity_decrease=0.0, min_impurity_split=None,\n",
      "            min_samples_leaf=1, min_samples_split=2,\n",
      "            min_weight_fraction_leaf=0.0, presort=False, random_state=11,\n",
      "            splitter='best') \n",
      "\n",
      "Train accuracy:  0.9776785714285714\n",
      "Test accuracy:  0.8584583333333333 \n",
      "\n",
      "[[20416  1773]\n",
      " [ 1624   187]] \n",
      "\n"
     ]
    }
   ],
   "source": [
    "#Model 2 - Tree\n",
    "\n",
    "from sklearn.tree import DecisionTreeClassifier\n",
    "from sklearn.model_selection import GridSearchCV, cross_val_score\n",
    "\n",
    "mdl=DecisionTreeClassifier(criterion='gini', \n",
    "                       splitter='best', \n",
    "                       max_depth=10, \n",
    "                       min_samples_split=2, \n",
    "                       min_samples_leaf=1, \n",
    "                       min_weight_fraction_leaf=0.0, \n",
    "                       max_features=None, \n",
    "                       random_state=None, \n",
    "                       max_leaf_nodes=None, \n",
    "                       min_impurity_decrease=0.0, \n",
    "                       min_impurity_split=None, \n",
    "                       class_weight=None, \n",
    "                       presort=False)\n",
    "\n",
    "#create a dictionary of parameters for grid search \n",
    "param_grid = {'max_features':[5,20,50,75],\n",
    "'max_depth':[10,25,50],\n",
    "'random_state':[11]}\n",
    "\n",
    "#--------------------------------------\n",
    "mygrid = GridSearchCV(mdl, param_grid, cv = 5, scoring = 'roc_auc',refit = True, n_jobs=-1, verbose = 5)\n",
    "mygrid.fit(X_sm, y_sm)\n",
    "\n",
    "print(\"The following are the most optimal parameters found within my grid search:\",\"\\n\")\n",
    "print(mygrid.best_params_,\"\\n\" )\n",
    "print(\"This represents the model to use:\",\"\\n\")\n",
    "print(mygrid.best_estimator_,\"\\n\")\n",
    "\n",
    "#Fit to best parameters\n",
    "mytree=mygrid.best_estimator_\n",
    "mytree.fit(X_sm, y_sm)\n",
    "\n",
    "print(\"Train accuracy: \",mytree.score(x_train,y_train))\n",
    "print(\"Test accuracy: \",mytree.score(x_test,y_test),\"\\n\")\n",
    "pred=mytree.predict(x_test)\n",
    "print(confusion_matrix(y_test, pred),\"\\n\")"
   ]
  },
  {
   "cell_type": "code",
   "execution_count": 212,
   "metadata": {},
   "outputs": [
    {
     "data": {
      "image/png": "[encoded data removed]",
      "text/plain": [
       "<Figure size 432x288 with 1 Axes>"
      ]
     },
     "metadata": {},
     "output_type": "display_data"
    },
    {
     "name": "stdout",
     "output_type": "stream",
     "text": [
      "Optimal threshold:  1.0\n",
      "Accuracy:  0.925\n",
      "Precision:  nan\n",
      "Recall:  0.0\n"
     ]
    },
    {
     "name": "stderr",
     "output_type": "stream",
     "text": [
      "C:\\Users\\Anthony\\Anaconda3\\lib\\site-packages\\ipykernel_launcher.py:30: RuntimeWarning: invalid value encountered in longlong_scalars\n"
     ]
    },
    {
     "data": {
      "text/plain": [
       "array([[0.92454167, 0.        ],\n",
       "       [0.07545833, 0.        ]])"
      ]
     },
     "execution_count": 212,
     "metadata": {},
     "output_type": "execute_result"
    }
   ],
   "source": [
    "#AUC\n",
    "from sklearn.metrics import auc, roc_curve\n",
    "import matplotlib.pyplot as plt\n",
    "\n",
    "fpr, tpr, thresholds = roc_curve(y_test, mytree.predict_proba(x_test)[:,1] ) #runs through various thresholds and results\n",
    "roc_auc = auc(fpr, tpr) #calculated area under curve\n",
    "plt.title('Receiver Operating Characteristic')\n",
    "plt.plot(fpr, tpr, label='AUC = %0.4f'% roc_auc)\n",
    "plt.legend(loc='lower right')\n",
    "plt.plot([0,1],[0,1],'r--')\n",
    "plt.xlim([-0.001, 1])\n",
    "plt.ylim([0, 1.001])\n",
    "plt.ylabel('True Positive Rate')\n",
    "plt.xlabel('False Positive Rate')\n",
    "plt.show();\n",
    "\n",
    "#Threshold\n",
    "best_index=np.argmax(tpr[:-1]-np.array(range(len(fpr)))[:-1]/(len(fpr)-1))\n",
    "threshold = thresholds[best_index]\n",
    "print(\"Optimal threshold: \",threshold)\n",
    "\n",
    "#Using the optimal threshold improves our score from 90% to 95%\n",
    "#Precision increased but the true positive rate is lower\n",
    "#To determine the optimal balance we need more information, specifically what is the ratio of average cost per default vs. profit from non-defaulter\n",
    "new_pred=[1 if x>threshold else 0 for x in mytree.predict_proba(x_test)[:,1] ]\n",
    "confusion_matrix(y_test, new_pred)/np.sum(confusion_matrix(y_test, new_pred))\n",
    "\n",
    "\n",
    "print('Accuracy: ',np.round((confusion_matrix(y_test, new_pred)[1,1]+confusion_matrix(y_test, new_pred)[0,0])/np.sum(confusion_matrix(y_test, new_pred)),3))\n",
    "print('Precision: ',np.round(confusion_matrix(y_test, new_pred)[1,1]/np.sum(confusion_matrix(y_test, new_pred)[:,1]),3))\n",
    "print('Recall: ',np.round(confusion_matrix(y_test, new_pred)[1,1]/np.sum(confusion_matrix(y_test, new_pred)[1,:]),3))\n",
    "confusion_matrix(y_test, new_pred)/np.sum(confusion_matrix(y_test, new_pred))"
   ]
  },
  {
   "cell_type": "markdown",
   "metadata": {},
   "source": [
    "Tree Conclusions: It would seem the tree doesn't significantly outperform random chance, given by the low AUC"
   ]
  },
  {
   "cell_type": "markdown",
   "metadata": {},
   "source": [
    "Final conclusions:\n",
    "It would seem the problem is best modeled as linear with our logistic regression. "
   ]
  }
 ],
 "metadata": {
  "kernelspec": {
   "display_name": "Python 3",
   "language": "python",
   "name": "python3"
  },
  "language_info": {
   "codemirror_mode": {
    "name": "ipython",
    "version": 3
   },
   "file_extension": ".py",
   "mimetype": "text/x-python",
   "name": "python",
   "nbconvert_exporter": "python",
   "pygments_lexer": "ipython3",
   "version": "3.6.4"
  }
 },
 "nbformat": 4,
 "nbformat_minor": 2
}
